{
 "cells": [
  {
   "cell_type": "markdown",
   "id": "3cd133e1-5420-47d4-8764-94118a358dce",
   "metadata": {},
   "source": [
    "## This is a Work-in-Progress Notebook for the Development of a `CFPy.utils.preprocessing`-Utility that Checks that All Inlets are Actually Connected to the Outlet(s)"
   ]
  },
  {
   "cell_type": "code",
   "execution_count": 1,
   "id": "9b7a0047-0b52-4b6e-b7e2-b312709dfa0b",
   "metadata": {},
   "outputs": [],
   "source": [
    "import numpy as np\n",
    "import flopy\n",
    "import matplotlib.pyplot as plt\n",
    "import CFPy as cfpy"
   ]
  },
  {
   "cell_type": "code",
   "execution_count": null,
   "id": "3e7ed2a1-adfc-40e8-be09-f4c9edaad4bd",
   "metadata": {},
   "outputs": [],
   "source": []
  }
 ],
 "metadata": {
  "kernelspec": {
   "display_name": "Python 3",
   "language": "python",
   "name": "python3"
  },
  "language_info": {
   "codemirror_mode": {
    "name": "ipython",
    "version": 3
   },
   "file_extension": ".py",
   "mimetype": "text/x-python",
   "name": "python",
   "nbconvert_exporter": "python",
   "pygments_lexer": "ipython3",
   "version": "3.8.5"
  }
 },
 "nbformat": 4,
 "nbformat_minor": 5
}
